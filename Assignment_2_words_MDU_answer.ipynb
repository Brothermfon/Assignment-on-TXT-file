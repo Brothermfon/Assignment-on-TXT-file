{
  "nbformat": 4,
  "nbformat_minor": 0,
  "metadata": {
    "colab": {
      "name": "Assignment 2 words_MDU answer.ipynb",
      "provenance": [],
      "collapsed_sections": []
    },
    "kernelspec": {
      "name": "python3",
      "display_name": "Python 3"
    },
    "language_info": {
      "name": "python"
    }
  },
  "cells": [
    {
      "cell_type": "markdown",
      "metadata": {
        "id": "CGWSC5HlUuZz"
      },
      "source": [
        "**Exercise 1:**\n",
        "\n",
        "We will print the words which have number of letters more than 10."
      ]
    },
    {
      "cell_type": "code",
      "source": [
        "file = open(\"/content/words.txt\")\n",
        "\n",
        "for line in file:\n",
        "\n",
        "  wordlist = line.split()\n",
        "\n",
        "  word = wordlist[0]\n",
        "\n",
        "  if len(word) > 10:\n",
        "    print(word)"
      ],
      "metadata": {
        "colab": {
          "base_uri": "https://localhost:8080/"
        },
        "id": "z9sNWYWYWkvi",
        "outputId": "40cd3c01-a224-441f-fdb8-aa92a1b10826"
      },
      "execution_count": 1,
      "outputs": [
        {
          "output_type": "stream",
          "name": "stdout",
          "text": [
            "consectetur\n",
            "pellentesque\n",
            "sollicitudin\n",
            "scelerisque\n",
            "ullamcorper\n",
            "condimentum\n",
            "Suspendisse\n"
          ]
        }
      ]
    },
    {
      "cell_type": "markdown",
      "source": [
        ""
      ],
      "metadata": {
        "id": "CxS0hlDVX_7m"
      }
    },
    {
      "cell_type": "markdown",
      "metadata": {
        "id": "JbKr4QdjUuZ1"
      },
      "source": [
        "**Exercise 2:**\n",
        "\n",
        "Define a new function.\n",
        "\n",
        "This function will search for the words which have no vowels in it. (a, e, i, o, u)"
      ]
    },
    {
      "cell_type": "code",
      "source": [
        "def vowels_check():\n",
        "\n",
        "  file = open(\"/content/words.txt\")\n",
        "\n",
        "  for line in file:\n",
        "\n",
        "    wordlist = line.split()\n",
        "\n",
        "    word = wordlist[0]\n",
        "\n",
        "    if not \"a\" in word and \\\n",
        "     not \"e\" in word and \\\n",
        "     not \"i\" in word and \\\n",
        "     not \"o\" in word and \\\n",
        "     not \"u\" in word:\n",
        "      print(word)"
      ],
      "metadata": {
        "id": "SOd3aBgSYG1G"
      },
      "execution_count": 3,
      "outputs": []
    },
    {
      "cell_type": "code",
      "source": [
        "vowels_check()"
      ],
      "metadata": {
        "colab": {
          "base_uri": "https://localhost:8080/"
        },
        "id": "hjHz1RtsZi5d",
        "outputId": "805fd627-99d3-48c4-9129-b1988ac34c3c"
      },
      "execution_count": 4,
      "outputs": [
        {
          "output_type": "stream",
          "name": "stdout",
          "text": [
            "In\n",
            "trylyk\n",
            "Antryl\n"
          ]
        }
      ]
    },
    {
      "cell_type": "markdown",
      "source": [
        ""
      ],
      "metadata": {
        "id": "PWa-8r9NZt46"
      }
    },
    {
      "cell_type": "markdown",
      "metadata": {
        "id": "QlQE-D0lUuaB"
      },
      "source": [
        "**Exercise 3:**\n",
        "\n",
        "We will define a function **is_any_forbidden_letter**.\n",
        "\n",
        "It will take letters which are forbidden and a text.\n",
        "\n",
        "It will check if this text included any of these forbidden letters.\n",
        "\n",
        "bool function -> True, False"
      ]
    },
    {
      "cell_type": "code",
      "execution_count": 13,
      "metadata": {
        "id": "wr_mVl-aTrq9"
      },
      "outputs": [],
      "source": [
        "def is_any_forbiddenletter(text, forbiddenletters):\n",
        "    \n",
        "    for letter in text:\n",
        "        if letter in forbiddenletters:\n",
        "            return True\n",
        "    else:\n",
        "        return False\n",
        "    "
      ]
    },
    {
      "cell_type": "code",
      "source": [
        "sentence = \"A forbidden sentence\"\n",
        "forbiddenletters = \"ae\"\n",
        "\n",
        "is_any_forbiddenletter(sentence, forbiddenletters)"
      ],
      "metadata": {
        "colab": {
          "base_uri": "https://localhost:8080/"
        },
        "id": "qSmaMGi4bS8A",
        "outputId": "9128fd95-257b-4f03-8abc-baac63928351"
      },
      "execution_count": 14,
      "outputs": [
        {
          "output_type": "execute_result",
          "data": {
            "text/plain": [
              "True"
            ]
          },
          "metadata": {},
          "execution_count": 14
        }
      ]
    },
    {
      "cell_type": "markdown",
      "source": [
        ""
      ],
      "metadata": {
        "id": "mxJMUIN5cFH9"
      }
    },
    {
      "cell_type": "markdown",
      "metadata": {
        "id": "Tgs78TmfUuaE"
      },
      "source": [
        "**Exercise 4:**\n",
        "\n",
        "Define a function named **only_uses_these_letters**\n",
        "\n",
        "It will take letters and a text.\n",
        "\n",
        "It will check if this text uses only these letters.\n",
        "\n",
        "It the text uses only these letters -> True\n",
        "\n",
        "bool function -> True, False"
      ]
    },
    {
      "cell_type": "code",
      "source": [
        "def only_uses_these_letters(text, letters):\n",
        "    \n",
        "    for character in text:\n",
        "        # if the character in letters or not\n",
        "        # check if character is an alphabetical letter -> isalpha()\n",
        "        if character.isalpha() and not character in letters:\n",
        "            return False\n",
        "    else:\n",
        "        return True\n",
        "    "
      ],
      "metadata": {
        "id": "u7aYrXmrd4rn"
      },
      "execution_count": 17,
      "outputs": []
    },
    {
      "cell_type": "code",
      "source": [
        "sentence = \"observe\"\n",
        "letters = \"observ\"\n",
        "\n",
        "only_uses_these_letters(sentence, letters)"
      ],
      "metadata": {
        "colab": {
          "base_uri": "https://localhost:8080/"
        },
        "id": "v4Zghi9meOge",
        "outputId": "c9265eac-e3ec-4568-a5dd-161ef184c876"
      },
      "execution_count": 18,
      "outputs": [
        {
          "output_type": "execute_result",
          "data": {
            "text/plain": [
              "True"
            ]
          },
          "metadata": {},
          "execution_count": 18
        }
      ]
    },
    {
      "cell_type": "code",
      "source": [
        "sentence = \"observe him\"\n",
        "letters = \"observ\"\n",
        "\n",
        "only_uses_these_letters(sentence, letters)"
      ],
      "metadata": {
        "colab": {
          "base_uri": "https://localhost:8080/"
        },
        "id": "Rmx8P6cie573",
        "outputId": "cf564cb1-cbab-4e93-f36e-648268f8fb0a"
      },
      "execution_count": 19,
      "outputs": [
        {
          "output_type": "execute_result",
          "data": {
            "text/plain": [
              "False"
            ]
          },
          "metadata": {},
          "execution_count": 19
        }
      ]
    },
    {
      "cell_type": "markdown",
      "source": [
        ""
      ],
      "metadata": {
        "id": "zOpN91UufIU7"
      }
    },
    {
      "cell_type": "markdown",
      "metadata": {
        "id": "eIDUlR4rUuaP"
      },
      "source": [
        "**Exercise 5:**\n",
        "\n",
        "use the function E4, check for Lorem words using only 'ens' letters."
      ]
    },
    {
      "cell_type": "code",
      "source": [
        "def only_uses_these_letters_lorem(letters):\n",
        "    \n",
        "    # read the file\n",
        "    file = open(\"/content/words.txt\")\n",
        "    \n",
        "    for line in file:\n",
        "        \n",
        "        word_list = line.split()\n",
        "\n",
        "        word = word_list[0]\n",
        "        \n",
        "        word = word.lower()\n",
        "        \n",
        "        if only_uses_these_letters(word, letters):\n",
        "            print(word)\n",
        "    "
      ],
      "metadata": {
        "id": "QmdU9zkDfaNz"
      },
      "execution_count": 20,
      "outputs": []
    },
    {
      "cell_type": "code",
      "source": [
        "letters = \"ens\"\n",
        "only_uses_these_letters_lorem(letters)"
      ],
      "metadata": {
        "colab": {
          "base_uri": "https://localhost:8080/"
        },
        "id": "2Do7Oxh7f6Yg",
        "outputId": "86d49ff4-c70c-41ca-d70d-787b76f14e98"
      },
      "execution_count": 21,
      "outputs": [
        {
          "output_type": "stream",
          "name": "stdout",
          "text": [
            "sesse\n",
            "nesnes\n",
            "senesses\n"
          ]
        }
      ]
    },
    {
      "cell_type": "markdown",
      "source": [
        ""
      ],
      "metadata": {
        "id": "frfVMinfgRfz"
      }
    },
    {
      "cell_type": "markdown",
      "metadata": {
        "id": "fxRKmznNUuaR"
      },
      "source": [
        "**Exercise 6:**\n",
        "\n",
        "Define a function named **uses_all**.\n",
        "\n",
        "It will take a text and letters.\n",
        "\n",
        "If the text uses all the letter at least once, it will return True."
      ]
    },
    {
      "cell_type": "code",
      "source": [
        "def uses_all(text, letters):\n",
        "    \n",
        "    it_uses_all = True\n",
        "    \n",
        "    for letter in letters:\n",
        "        # if letter is not text -> text is not using this letter\n",
        "        if not letter in text:\n",
        "            it_uses_all = False\n",
        "    \n",
        "    return it_uses_all\n"
      ],
      "metadata": {
        "id": "Tusv3A2VgUCx"
      },
      "execution_count": 22,
      "outputs": []
    },
    {
      "cell_type": "code",
      "source": [
        "letters = \"mdu\"\n",
        "text = \"my direct uplink\"\n",
        "uses_all(text, letters)"
      ],
      "metadata": {
        "colab": {
          "base_uri": "https://localhost:8080/"
        },
        "id": "BzpTHOLzglEl",
        "outputId": "be108dfe-06a4-4389-d8a4-746e01d8b5c5"
      },
      "execution_count": 25,
      "outputs": [
        {
          "output_type": "execute_result",
          "data": {
            "text/plain": [
              "True"
            ]
          },
          "metadata": {},
          "execution_count": 25
        }
      ]
    },
    {
      "cell_type": "code",
      "source": [
        "letters = \"mduq\"\n",
        "text = \"my direct uplink\"\n",
        "uses_all(text, letters)"
      ],
      "metadata": {
        "colab": {
          "base_uri": "https://localhost:8080/"
        },
        "id": "mB-zzWeGhXhq",
        "outputId": "ecbe5b58-9f35-49d4-ea40-56e3037078ea"
      },
      "execution_count": 26,
      "outputs": [
        {
          "output_type": "execute_result",
          "data": {
            "text/plain": [
              "False"
            ]
          },
          "metadata": {},
          "execution_count": 26
        }
      ]
    },
    {
      "cell_type": "markdown",
      "source": [
        ""
      ],
      "metadata": {
        "id": "O4ZmP4YJhfuw"
      }
    },
    {
      "cell_type": "markdown",
      "metadata": {
        "id": "q2LA9MK6UuaU"
      },
      "source": [
        "**Exercise 7:**\n",
        "\n",
        "Use the function E6 and for Lorem letters check:\n",
        "\n",
        "The words using all the letters in 'aei'."
      ]
    },
    {
      "cell_type": "code",
      "source": [
        "def uses_all_lorem(letters):\n",
        "    \n",
        "    file = open(\"/content/words.txt\")\n",
        "    \n",
        "    for line in file:\n",
        "        \n",
        "        wordlist = line.split()\n",
        "\n",
        "        word = wordlist[0]\n",
        "        \n",
        "        # convert into lower case\n",
        "        word = word.lower()\n",
        "        \n",
        "        if uses_all(word, letters):\n",
        "            print(word)\n",
        "    "
      ],
      "metadata": {
        "id": "kRwdtYeLh4is"
      },
      "execution_count": 29,
      "outputs": []
    },
    {
      "cell_type": "code",
      "source": [
        "letters = \"aei\"\n",
        "uses_all_lorem(letters)"
      ],
      "metadata": {
        "colab": {
          "base_uri": "https://localhost:8080/"
        },
        "id": "547JFO4AiJMO",
        "outputId": "0314ef7a-2b7f-4d9d-a4c3-e1d2d9997056"
      },
      "execution_count": 28,
      "outputs": [
        {
          "output_type": "stream",
          "name": "stdout",
          "text": [
            "feugiat\n",
            "penatibus\n",
            "parturient\n",
            "venenatis\n",
            "vitae\n",
            "aliquet\n",
            "sapien\n",
            "viverra\n",
            "vehicula\n",
            "habitasse\n"
          ]
        }
      ]
    },
    {
      "cell_type": "markdown",
      "source": [
        ""
      ],
      "metadata": {
        "id": "ZNXg68tniaPp"
      }
    },
    {
      "cell_type": "markdown",
      "metadata": {
        "id": "_Eq2QY--UuaW"
      },
      "source": [
        "**Exercise 8:**\n",
        "\n",
        "Use funtions from:\n",
        "* E4\n",
        "* E6\n",
        "\n",
        "To find the Lorem words which uses only `fir` letters and use them all.\n",
        "\n",
        "The function name will be **only_uses_all**."
      ]
    },
    {
      "cell_type": "code",
      "source": [
        "def only_uses_all(letters):\n",
        "    \n",
        "    # read the file\n",
        "    file = open(\"/content/words.txt\")\n",
        "    \n",
        "    for line in file:\n",
        "        \n",
        "        wordlist = line.split()\n",
        "\n",
        "        word = wordlist[0]\n",
        "        \n",
        "        # convert into lower case\n",
        "        word = word.lower()\n",
        "        \n",
        "        if only_uses_these_letters(word, letters) and uses_all(word, letters):\n",
        "            print(word)"
      ],
      "metadata": {
        "id": "vlFUJHnPicmQ"
      },
      "execution_count": 30,
      "outputs": []
    },
    {
      "cell_type": "code",
      "source": [
        "letters = \"fir\"\n",
        "only_uses_all(letters)"
      ],
      "metadata": {
        "colab": {
          "base_uri": "https://localhost:8080/"
        },
        "id": "ZxlI9bpSi9Io",
        "outputId": "b5fd7611-b4e8-4aa8-c697-6ac986c8c4ed"
      },
      "execution_count": 31,
      "outputs": [
        {
          "output_type": "stream",
          "name": "stdout",
          "text": [
            "frifirri\n"
          ]
        }
      ]
    },
    {
      "cell_type": "code",
      "source": [
        "letters = \"sum\"\n",
        "only_uses_all(letters)"
      ],
      "metadata": {
        "colab": {
          "base_uri": "https://localhost:8080/"
        },
        "id": "8TJ8gH7jjJoZ",
        "outputId": "89275ed0-9d3d-41c4-a547-4770283c904f"
      },
      "execution_count": 34,
      "outputs": [
        {
          "output_type": "stream",
          "name": "stdout",
          "text": [
            "mus\n"
          ]
        }
      ]
    },
    {
      "cell_type": "markdown",
      "source": [
        ""
      ],
      "metadata": {
        "id": "MFYYp-2mjc6z"
      }
    },
    {
      "cell_type": "markdown",
      "metadata": {
        "id": "HjpzPOJtUuaX"
      },
      "source": [
        "**Exercise 9:**\n",
        "\n",
        "**ordered_word**: if the letters in a word is in alphabetical order.\n",
        "\n",
        "Define a function named **is_ordered_word**.\n",
        "\n",
        "It will take a string parameter as text.\n",
        "\n",
        "It will return True if it is an ordered word.\n",
        "\n",
        "Ex: abc, agor, def"
      ]
    },
    {
      "cell_type": "code",
      "source": [
        "def is_ordered_word(word):\n",
        "    \n",
        "    previous = word[0]\n",
        "    \n",
        "    for letter in word:\n",
        "        \n",
        "        # check if previous is smaller\n",
        "        if letter < previous:\n",
        "            return False\n",
        "        \n",
        "        # reassign the previous as the current letter\n",
        "        previous = letter\n",
        "        \n",
        "    return True\n",
        "    "
      ],
      "metadata": {
        "id": "miM-RQIBjpbL"
      },
      "execution_count": 35,
      "outputs": []
    },
    {
      "cell_type": "code",
      "source": [
        "word = \"abc\"\n",
        "is_ordered_word(word)"
      ],
      "metadata": {
        "colab": {
          "base_uri": "https://localhost:8080/"
        },
        "id": "dq295aEwj_yQ",
        "outputId": "4a40d110-8acc-4e8b-b6e8-0d3d8289652f"
      },
      "execution_count": 39,
      "outputs": [
        {
          "output_type": "execute_result",
          "data": {
            "text/plain": [
              "True"
            ]
          },
          "metadata": {},
          "execution_count": 39
        }
      ]
    },
    {
      "cell_type": "code",
      "source": [
        "word = 'agor'\n",
        "\n",
        "is_ordered_word(word)"
      ],
      "metadata": {
        "colab": {
          "base_uri": "https://localhost:8080/"
        },
        "id": "ayCfcX4lkUN6",
        "outputId": "3f038a41-e6fc-4d4b-9c37-61613dc21749"
      },
      "execution_count": 40,
      "outputs": [
        {
          "output_type": "execute_result",
          "data": {
            "text/plain": [
              "True"
            ]
          },
          "metadata": {},
          "execution_count": 40
        }
      ]
    },
    {
      "cell_type": "code",
      "source": [
        "word = 'def'\n",
        "\n",
        "is_ordered_word(word)"
      ],
      "metadata": {
        "colab": {
          "base_uri": "https://localhost:8080/"
        },
        "id": "_RDnQErwkYgw",
        "outputId": "c5343bac-73cc-4ce6-e34d-18bb86c159ef"
      },
      "execution_count": 41,
      "outputs": [
        {
          "output_type": "execute_result",
          "data": {
            "text/plain": [
              "True"
            ]
          },
          "metadata": {},
          "execution_count": 41
        }
      ]
    },
    {
      "cell_type": "markdown",
      "source": [
        ""
      ],
      "metadata": {
        "id": "CUM88juuktie"
      }
    },
    {
      "cell_type": "markdown",
      "metadata": {
        "id": "49BNQsNhUuaa"
      },
      "source": [
        "**Exercise 10:**\n",
        "\n",
        "Use function in E9 to find out which Lorem words are ordered."
      ]
    },
    {
      "cell_type": "code",
      "source": [
        "def is_ordered_word_lorem():\n",
        "    \n",
        "    file = open(\"/content/words.txt\")\n",
        "    \n",
        "    for line in file:\n",
        "        \n",
        "        word_list = line.split()\n",
        "\n",
        "        word = word_list[0]\n",
        "        \n",
        "        word = word.lower()\n",
        "        \n",
        "        if is_ordered_word(word):\n",
        "            print(word)\n",
        "    "
      ],
      "metadata": {
        "id": "aOMwrzEwk7Xj"
      },
      "execution_count": 42,
      "outputs": []
    },
    {
      "cell_type": "code",
      "source": [
        "is_ordered_word_lorem()"
      ],
      "metadata": {
        "colab": {
          "base_uri": "https://localhost:8080/"
        },
        "id": "b7edzW5glQGT",
        "outputId": "a11d7b0c-76ee-4907-abb5-1cfae4554cb0"
      },
      "execution_count": 43,
      "outputs": [
        {
          "output_type": "stream",
          "name": "stdout",
          "text": [
            "in\n",
            "at\n",
            "in\n",
            "eu\n",
            "et\n",
            "dis\n",
            "ac\n",
            "ex\n",
            "a\n",
            "est\n"
          ]
        }
      ]
    },
    {
      "cell_type": "code",
      "source": [
        "word = \"Nam\"\n",
        "is_ordered_word(word)"
      ],
      "metadata": {
        "colab": {
          "base_uri": "https://localhost:8080/"
        },
        "id": "xKBjtk74lcxe",
        "outputId": "98c36099-0630-417a-d1c8-1a83fad898f8"
      },
      "execution_count": 44,
      "outputs": [
        {
          "output_type": "execute_result",
          "data": {
            "text/plain": [
              "True"
            ]
          },
          "metadata": {},
          "execution_count": 44
        }
      ]
    },
    {
      "cell_type": "code",
      "source": [
        "\"N\" < \"n\""
      ],
      "metadata": {
        "colab": {
          "base_uri": "https://localhost:8080/"
        },
        "id": "vWwhwyNnlnLy",
        "outputId": "fe2a2d14-73df-4595-fb54-f4d8497f1dfc"
      },
      "execution_count": 47,
      "outputs": [
        {
          "output_type": "execute_result",
          "data": {
            "text/plain": [
              "True"
            ]
          },
          "metadata": {},
          "execution_count": 47
        }
      ]
    },
    {
      "cell_type": "code",
      "source": [
        "\"a\" > \"A\""
      ],
      "metadata": {
        "colab": {
          "base_uri": "https://localhost:8080/"
        },
        "id": "LTPb8fWiluxp",
        "outputId": "436b691b-140a-482d-d735-3c40f5b180ac"
      },
      "execution_count": 46,
      "outputs": [
        {
          "output_type": "execute_result",
          "data": {
            "text/plain": [
              "True"
            ]
          },
          "metadata": {},
          "execution_count": 46
        }
      ]
    }
  ]
}